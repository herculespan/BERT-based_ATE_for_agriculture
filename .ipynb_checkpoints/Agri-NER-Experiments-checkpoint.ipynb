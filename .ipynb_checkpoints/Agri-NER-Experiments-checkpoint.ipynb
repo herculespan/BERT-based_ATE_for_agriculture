{
 "cells": [
  {
   "cell_type": "code",
   "execution_count": 1,
   "metadata": {
    "id": "JZN_26Z-vkOr"
   },
   "outputs": [],
   "source": [
    "!export TOKENIZERS_PARALLELISM=false"
   ]
  },
  {
   "cell_type": "code",
   "execution_count": 2,
   "metadata": {
    "executionInfo": {
     "elapsed": 3,
     "status": "ok",
     "timestamp": 1659353036312,
     "user": {
      "displayName": "Borja Espejo",
      "userId": "14834259721458229847"
     },
     "user_tz": -120
    },
    "id": "SVyviybgJe8M"
   },
   "outputs": [],
   "source": [
    "%load_ext blackcellmagic"
   ]
  },
  {
   "cell_type": "code",
   "execution_count": 1,
   "metadata": {},
   "outputs": [
    {
     "data": {
      "text/plain": [
       "<torch._C.Generator at 0x7f26f10ea930>"
      ]
     },
     "execution_count": 1,
     "metadata": {},
     "output_type": "execute_result"
    }
   ],
   "source": [
    "import pandas as pd\n",
    "import numpy as np\n",
    "from tqdm import tqdm\n",
    "import csv\n",
    "import time\n",
    "import gc\n",
    "import os\n",
    "\n",
    "import torch\n",
    "from torch import nn\n",
    "\n",
    "from data_structures.architectures import BertModel, RobertaModel, XLNetModel\n",
    "from transformers import BertTokenizerFast, RobertaTokenizerFast, XLNetTokenizerFast\n",
    "\n",
    "from utils.preprocessing_utils import align_word_ids\n",
    "\n",
    "from utils.training_utils import train_loop\n",
    "\n",
    "from utils.evaluation_utils import evaluate\n",
    "from utils.evaluation_utils import get_entities_positions\n",
    "from utils.evaluation_utils import get_entity_annotation_metrics\n",
    "from utils.evaluation_utils import get_entity_annotation_report\n",
    "\n",
    "from utils.agrovoc_utils import load_agrovoc_altLabels\n",
    "from utils.agrovoc_utils import load_agrovoc_prefLabels\n",
    "\n",
    "from utils.oversampling_utils import get_lemma\n",
    "from utils.oversampling_utils import get_oversampled_data_with_synonyms\n",
    "from utils.oversampling_utils import get_annotation_ratio\n",
    "\n",
    "from utils.transfer_learning_utils import freeeze_layers\n",
    "from utils.transfer_learning_utils import freeeze_embeddings\n",
    "\n",
    "from config import LABEL_ALL_TOKENS, MAX_LENGTH\n",
    "from config import PATIENCE, NUM_EXPERIMENTS, BEST_MODELS_PATH\n",
    "from config import DATASETS_FOLDER\n",
    "\n",
    "from typing import Tuple\n",
    "\n",
    "RANDOM_STATE = 2022\n",
    "\n",
    "np.random.seed(seed=RANDOM_STATE)\n",
    "torch.manual_seed(RANDOM_STATE)"
   ]
  },
  {
   "cell_type": "markdown",
   "metadata": {},
   "source": [
    "#### Input Files"
   ]
  },
  {
   "cell_type": "code",
   "execution_count": 2,
   "metadata": {
    "executionInfo": {
     "elapsed": 1,
     "status": "ok",
     "timestamp": 1659353073424,
     "user": {
      "displayName": "Borja Espejo",
      "userId": "14834259721458229847"
     },
     "user_tz": -120
    },
    "id": "GFXV6BE4xgSI"
   },
   "outputs": [],
   "source": [
    "# Complete Training Files\n",
    "INPUT_FILE = os.path.join(DATASETS_FOLDER, 'pref-agri-ner-input.csv')\n",
    "SYNS_INPUT_FILE = os.path.join(DATASETS_FOLDER, 'synonym-agri-ner-input.csv')\n",
    "NOVEL_INPUT_FILE = os.path.join(DATASETS_FOLDER, 'novel-agri-ner-input.csv')\n",
    "\n",
    "# Minified input files for exploratory purposes\n",
    "MIN_INPUT_FILE = os.path.join(DATASETS_FOLDER, 'pref-agri-ner-input-min.csv')\n",
    "MIN_NOVEL_INPUT_FILE = os.path.join(DATASETS_FOLDER, 'novel-agri-ner-input-min.csv')"
   ]
  },
  {
   "cell_type": "markdown",
   "metadata": {},
   "source": [
    "#### Displaying Input Files"
   ]
  },
  {
   "cell_type": "code",
   "execution_count": 3,
   "metadata": {},
   "outputs": [
    {
     "data": {
      "text/html": [
       "<div>\n",
       "<style scoped>\n",
       "    .dataframe tbody tr th:only-of-type {\n",
       "        vertical-align: middle;\n",
       "    }\n",
       "\n",
       "    .dataframe tbody tr th {\n",
       "        vertical-align: top;\n",
       "    }\n",
       "\n",
       "    .dataframe thead th {\n",
       "        text-align: right;\n",
       "    }\n",
       "</style>\n",
       "<table border=\"1\" class=\"dataframe\">\n",
       "  <thead>\n",
       "    <tr style=\"text-align: right;\">\n",
       "      <th></th>\n",
       "      <th>text</th>\n",
       "      <th>labels</th>\n",
       "    </tr>\n",
       "  </thead>\n",
       "  <tbody>\n",
       "    <tr>\n",
       "      <th>0</th>\n",
       "      <td>On observing the pistils of the flowers which ...</td>\n",
       "      <td>O O O B-Agr O O B-Agr O O O B-Agr O O O O O B-...</td>\n",
       "    </tr>\n",
       "    <tr>\n",
       "      <th>1</th>\n",
       "      <td>The author concludes that from the obtained da...</td>\n",
       "      <td>O O O O O O O B-Agr O O O O O O O O O O O O O ...</td>\n",
       "    </tr>\n",
       "    <tr>\n",
       "      <th>2</th>\n",
       "      <td>In all the taxa studied most chromosomes of th...</td>\n",
       "      <td>O O O B-Agr O O B-Agr O O O B-Agr O O O O O</td>\n",
       "    </tr>\n",
       "    <tr>\n",
       "      <th>3</th>\n",
       "      <td>Nucleolar organizer chromosomes of different t...</td>\n",
       "      <td>O O B-Agr O O O O O O O O O O O O O B-Agr O O</td>\n",
       "    </tr>\n",
       "    <tr>\n",
       "      <th>4</th>\n",
       "      <td>Fourteen populations representative of all the...</td>\n",
       "      <td>O B-Agr O O O O B-Agr O O O O O O O O O O O O ...</td>\n",
       "    </tr>\n",
       "    <tr>\n",
       "      <th>...</th>\n",
       "      <td>...</td>\n",
       "      <td>...</td>\n",
       "    </tr>\n",
       "    <tr>\n",
       "      <th>1905</th>\n",
       "      <td>Indirect effects of fruit length and fruit wei...</td>\n",
       "      <td>O B-Agr O O B-Agr O O B-Agr O O O O O</td>\n",
       "    </tr>\n",
       "    <tr>\n",
       "      <th>1906</th>\n",
       "      <td>Fruit length and fruit weight however contribu...</td>\n",
       "      <td>O B-Agr O O B-Agr O O O O O O O O</td>\n",
       "    </tr>\n",
       "    <tr>\n",
       "      <th>1907</th>\n",
       "      <td>Application of selection index failed to show ...</td>\n",
       "      <td>B-Agr O B-Agr I-Agr O O O O O O O O B-Agr O O O</td>\n",
       "    </tr>\n",
       "    <tr>\n",
       "      <th>1908</th>\n",
       "      <td>Loading and handling operations are mostly car...</td>\n",
       "      <td>B-Agr O B-Agr O O O O O O B-Agr O O O O O O B-...</td>\n",
       "    </tr>\n",
       "    <tr>\n",
       "      <th>1909</th>\n",
       "      <td>Above 71 kW soil cultivation occupies more tha...</td>\n",
       "      <td>O O O B-Agr B-Agr O O O O O O O B-Agr O O O O ...</td>\n",
       "    </tr>\n",
       "  </tbody>\n",
       "</table>\n",
       "<p>1910 rows × 2 columns</p>\n",
       "</div>"
      ],
      "text/plain": [
       "                                                   text   \n",
       "0     On observing the pistils of the flowers which ...  \\\n",
       "1     The author concludes that from the obtained da...   \n",
       "2     In all the taxa studied most chromosomes of th...   \n",
       "3     Nucleolar organizer chromosomes of different t...   \n",
       "4     Fourteen populations representative of all the...   \n",
       "...                                                 ...   \n",
       "1905  Indirect effects of fruit length and fruit wei...   \n",
       "1906  Fruit length and fruit weight however contribu...   \n",
       "1907  Application of selection index failed to show ...   \n",
       "1908  Loading and handling operations are mostly car...   \n",
       "1909  Above 71 kW soil cultivation occupies more tha...   \n",
       "\n",
       "                                                 labels  \n",
       "0     O O O B-Agr O O B-Agr O O O B-Agr O O O O O B-...  \n",
       "1     O O O O O O O B-Agr O O O O O O O O O O O O O ...  \n",
       "2           O O O B-Agr O O B-Agr O O O B-Agr O O O O O  \n",
       "3         O O B-Agr O O O O O O O O O O O O O B-Agr O O  \n",
       "4     O B-Agr O O O O B-Agr O O O O O O O O O O O O ...  \n",
       "...                                                 ...  \n",
       "1905              O B-Agr O O B-Agr O O B-Agr O O O O O  \n",
       "1906                  O B-Agr O O B-Agr O O O O O O O O  \n",
       "1907    B-Agr O B-Agr I-Agr O O O O O O O O B-Agr O O O  \n",
       "1908  B-Agr O B-Agr O O O O O O B-Agr O O O O O O B-...  \n",
       "1909  O O O B-Agr B-Agr O O O O O O O B-Agr O O O O ...  \n",
       "\n",
       "[1910 rows x 2 columns]"
      ]
     },
     "execution_count": 3,
     "metadata": {},
     "output_type": "execute_result"
    }
   ],
   "source": [
    "df = pd.read_csv(MIN_INPUT_FILE)\n",
    "df"
   ]
  },
  {
   "cell_type": "code",
   "execution_count": 4,
   "metadata": {},
   "outputs": [
    {
     "data": {
      "text/html": [
       "<div>\n",
       "<style scoped>\n",
       "    .dataframe tbody tr th:only-of-type {\n",
       "        vertical-align: middle;\n",
       "    }\n",
       "\n",
       "    .dataframe tbody tr th {\n",
       "        vertical-align: top;\n",
       "    }\n",
       "\n",
       "    .dataframe thead th {\n",
       "        text-align: right;\n",
       "    }\n",
       "</style>\n",
       "<table border=\"1\" class=\"dataframe\">\n",
       "  <thead>\n",
       "    <tr style=\"text-align: right;\">\n",
       "      <th></th>\n",
       "      <th>text</th>\n",
       "      <th>labels</th>\n",
       "    </tr>\n",
       "  </thead>\n",
       "  <tbody>\n",
       "    <tr>\n",
       "      <th>0</th>\n",
       "      <td>Many of them are of Dutch origin</td>\n",
       "      <td>O O O O O O B-Agr</td>\n",
       "    </tr>\n",
       "    <tr>\n",
       "      <th>1</th>\n",
       "      <td>Scenarios and projections into the future are ...</td>\n",
       "      <td>O O B-Agr O O O O O O O O O O O O</td>\n",
       "    </tr>\n",
       "    <tr>\n",
       "      <th>2</th>\n",
       "      <td>The frequency of abnormality varies greatly be...</td>\n",
       "      <td>O O O O O O O O B-Agr</td>\n",
       "    </tr>\n",
       "    <tr>\n",
       "      <th>3</th>\n",
       "      <td>Agricultural conditions determined by seasonal...</td>\n",
       "      <td>O O O O O B-Agr O O O O O O O O</td>\n",
       "    </tr>\n",
       "    <tr>\n",
       "      <th>4</th>\n",
       "      <td>The experiments were carried out both in the p...</td>\n",
       "      <td>O B-Agr O O O O O O O O O O O O O O O</td>\n",
       "    </tr>\n",
       "    <tr>\n",
       "      <th>...</th>\n",
       "      <td>...</td>\n",
       "      <td>...</td>\n",
       "    </tr>\n",
       "    <tr>\n",
       "      <th>1258</th>\n",
       "      <td>Food likes are not innate but can develop very...</td>\n",
       "      <td>O O O O O O O O O O O O O B-Agr O</td>\n",
       "    </tr>\n",
       "    <tr>\n",
       "      <th>1259</th>\n",
       "      <td>Preterm birth may be associated with eating di...</td>\n",
       "      <td>O B-Agr O O O O B-Agr O</td>\n",
       "    </tr>\n",
       "    <tr>\n",
       "      <th>1260</th>\n",
       "      <td>The estimation of microbial diversity has rece...</td>\n",
       "      <td>O B-Agr O O O O O O O O O O O O O O</td>\n",
       "    </tr>\n",
       "    <tr>\n",
       "      <th>1261</th>\n",
       "      <td>Member commitment falls down in large agricult...</td>\n",
       "      <td>O O B-Agr O O O O O</td>\n",
       "    </tr>\n",
       "    <tr>\n",
       "      <th>1262</th>\n",
       "      <td>Predictions were less accurate although satisf...</td>\n",
       "      <td>B-Agr O O O O O O O</td>\n",
       "    </tr>\n",
       "  </tbody>\n",
       "</table>\n",
       "<p>1263 rows × 2 columns</p>\n",
       "</div>"
      ],
      "text/plain": [
       "                                                   text   \n",
       "0                      Many of them are of Dutch origin  \\\n",
       "1     Scenarios and projections into the future are ...   \n",
       "2     The frequency of abnormality varies greatly be...   \n",
       "3     Agricultural conditions determined by seasonal...   \n",
       "4     The experiments were carried out both in the p...   \n",
       "...                                                 ...   \n",
       "1258  Food likes are not innate but can develop very...   \n",
       "1259  Preterm birth may be associated with eating di...   \n",
       "1260  The estimation of microbial diversity has rece...   \n",
       "1261  Member commitment falls down in large agricult...   \n",
       "1262  Predictions were less accurate although satisf...   \n",
       "\n",
       "                                     labels  \n",
       "0                         O O O O O O B-Agr  \n",
       "1         O O B-Agr O O O O O O O O O O O O  \n",
       "2                     O O O O O O O O B-Agr  \n",
       "3           O O O O O B-Agr O O O O O O O O  \n",
       "4     O B-Agr O O O O O O O O O O O O O O O  \n",
       "...                                     ...  \n",
       "1258      O O O O O O O O O O O O O B-Agr O  \n",
       "1259                O B-Agr O O O O B-Agr O  \n",
       "1260    O B-Agr O O O O O O O O O O O O O O  \n",
       "1261                    O O B-Agr O O O O O  \n",
       "1262                    B-Agr O O O O O O O  \n",
       "\n",
       "[1263 rows x 2 columns]"
      ]
     },
     "execution_count": 4,
     "metadata": {},
     "output_type": "execute_result"
    }
   ],
   "source": [
    "df_syns = pd.read_csv(SYNS_INPUT_FILE)\n",
    "df_syns"
   ]
  },
  {
   "cell_type": "code",
   "execution_count": 5,
   "metadata": {},
   "outputs": [
    {
     "data": {
      "text/html": [
       "<div>\n",
       "<style scoped>\n",
       "    .dataframe tbody tr th:only-of-type {\n",
       "        vertical-align: middle;\n",
       "    }\n",
       "\n",
       "    .dataframe tbody tr th {\n",
       "        vertical-align: top;\n",
       "    }\n",
       "\n",
       "    .dataframe thead th {\n",
       "        text-align: right;\n",
       "    }\n",
       "</style>\n",
       "<table border=\"1\" class=\"dataframe\">\n",
       "  <thead>\n",
       "    <tr style=\"text-align: right;\">\n",
       "      <th></th>\n",
       "      <th>text</th>\n",
       "      <th>labels</th>\n",
       "    </tr>\n",
       "  </thead>\n",
       "  <tbody>\n",
       "    <tr>\n",
       "      <th>0</th>\n",
       "      <td>Parental F(1) F(2) and some backcross generati...</td>\n",
       "      <td>O O O O O O B-Agr O O</td>\n",
       "    </tr>\n",
       "    <tr>\n",
       "      <th>1</th>\n",
       "      <td>Ranking of the stations from the most similar ...</td>\n",
       "      <td>O O O B-Agr O O O O O O O O O O B-Agr O O O O ...</td>\n",
       "    </tr>\n",
       "    <tr>\n",
       "      <th>2</th>\n",
       "      <td>Available N was not highly correlated with tot...</td>\n",
       "      <td>O O O O O O O O O O O O B-Agr</td>\n",
       "    </tr>\n",
       "    <tr>\n",
       "      <th>3</th>\n",
       "      <td>Early emergence within certain limits may be a...</td>\n",
       "      <td>O B-Agr O O O B-Agr O O O O O</td>\n",
       "    </tr>\n",
       "    <tr>\n",
       "      <th>4</th>\n",
       "      <td>Generally food intake was pulsed with maxima e...</td>\n",
       "      <td>O B-Agr O O O O O O O</td>\n",
       "    </tr>\n",
       "    <tr>\n",
       "      <th>...</th>\n",
       "      <td>...</td>\n",
       "      <td>...</td>\n",
       "    </tr>\n",
       "    <tr>\n",
       "      <th>1258</th>\n",
       "      <td>However these devices should not be viewed as ...</td>\n",
       "      <td>O O O O O O O O O O B-Agr</td>\n",
       "    </tr>\n",
       "    <tr>\n",
       "      <th>1259</th>\n",
       "      <td>High-altitude resorts are confronted with a st...</td>\n",
       "      <td>O O O O O O O O O O O O B-Agr B-Agr</td>\n",
       "    </tr>\n",
       "    <tr>\n",
       "      <th>1260</th>\n",
       "      <td>Our work has two main objectives</td>\n",
       "      <td>O B-Agr O O O O</td>\n",
       "    </tr>\n",
       "    <tr>\n",
       "      <th>1261</th>\n",
       "      <td>These rebuilt neighbourhoods can make it possi...</td>\n",
       "      <td>O O O O O O O O O O O O O O O B-Agr O O O</td>\n",
       "    </tr>\n",
       "    <tr>\n",
       "      <th>1262</th>\n",
       "      <td>Particularly a hydraulic disjunction may occur...</td>\n",
       "      <td>O O O O B-Agr O O O O O O O O O O O O O O O O ...</td>\n",
       "    </tr>\n",
       "  </tbody>\n",
       "</table>\n",
       "<p>1263 rows × 2 columns</p>\n",
       "</div>"
      ],
      "text/plain": [
       "                                                   text   \n",
       "0     Parental F(1) F(2) and some backcross generati...  \\\n",
       "1     Ranking of the stations from the most similar ...   \n",
       "2     Available N was not highly correlated with tot...   \n",
       "3     Early emergence within certain limits may be a...   \n",
       "4     Generally food intake was pulsed with maxima e...   \n",
       "...                                                 ...   \n",
       "1258  However these devices should not be viewed as ...   \n",
       "1259  High-altitude resorts are confronted with a st...   \n",
       "1260                   Our work has two main objectives   \n",
       "1261  These rebuilt neighbourhoods can make it possi...   \n",
       "1262  Particularly a hydraulic disjunction may occur...   \n",
       "\n",
       "                                                 labels  \n",
       "0                                 O O O O O O B-Agr O O  \n",
       "1     O O O B-Agr O O O O O O O O O O B-Agr O O O O ...  \n",
       "2                         O O O O O O O O O O O O B-Agr  \n",
       "3                         O B-Agr O O O B-Agr O O O O O  \n",
       "4                                 O B-Agr O O O O O O O  \n",
       "...                                                 ...  \n",
       "1258                          O O O O O O O O O O B-Agr  \n",
       "1259                O O O O O O O O O O O O B-Agr B-Agr  \n",
       "1260                                    O B-Agr O O O O  \n",
       "1261          O O O O O O O O O O O O O O O B-Agr O O O  \n",
       "1262  O O O O B-Agr O O O O O O O O O O O O O O O O ...  \n",
       "\n",
       "[1263 rows x 2 columns]"
      ]
     },
     "execution_count": 5,
     "metadata": {},
     "output_type": "execute_result"
    }
   ],
   "source": [
    "df_novel = pd.read_csv(MIN_NOVEL_INPUT_FILE)\n",
    "df_novel"
   ]
  },
  {
   "cell_type": "markdown",
   "metadata": {},
   "source": [
    "#### Formatting Labels and Maps"
   ]
  },
  {
   "cell_type": "code",
   "execution_count": 6,
   "metadata": {},
   "outputs": [
    {
     "name": "stdout",
     "output_type": "stream",
     "text": [
      "{'B-Agr', 'O', 'I-Agr'}\n",
      "{'B-Agr': 0, 'I-Agr': 1, 'O': 2}\n",
      "{0: 'B-Agr', 1: 'I-Agr', 2: 'O'}\n"
     ]
    }
   ],
   "source": [
    "# Split labels based on whitespace and turn them into a list\n",
    "labels = [i.split() for i in df[\"labels\"].values.tolist()]\n",
    "\n",
    "# Check how many labels are there in the dataset\n",
    "unique_labels = set()\n",
    "\n",
    "for lb in labels:\n",
    "    [unique_labels.add(i) for i in lb if i not in unique_labels]\n",
    "\n",
    "print(unique_labels)\n",
    "\n",
    "# Map each label into its id representation and vice versa\n",
    "labels_to_ids = {k: v for v, k in enumerate(sorted(unique_labels))}\n",
    "ids_to_labels = {v: k for v, k in enumerate(sorted(unique_labels))}\n",
    "print(labels_to_ids)\n",
    "print(ids_to_labels)"
   ]
  },
  {
   "cell_type": "markdown",
   "metadata": {},
   "source": [
    "#### Experimental Variables"
   ]
  },
  {
   "cell_type": "code",
   "execution_count": 7,
   "metadata": {
    "executionInfo": {
     "elapsed": 2,
     "status": "ok",
     "timestamp": 1659353073828,
     "user": {
      "displayName": "Borja Espejo",
      "userId": "14834259721458229847"
     },
     "user_tz": -120
    },
    "id": "g9644BK1vkO4"
   },
   "outputs": [],
   "source": [
    "PRETRAINED_MODELS = [\n",
    "  'recobo/agriculture-bert-uncased',\n",
    "  'bert-base-cased',\n",
    "  'xlnet-base-cased',\n",
    "  'roberta-base',\n",
    "  'allenai/scibert_scivocab_cased'     \n",
    "]\n",
    "LEARNING_RATES = [1e-3]\n",
    "FROZEN_EMBEDDINGS_MODE = [True, False] # To freeze or not embedding layers\n",
    "DROPOUT_RATES = [0.35] # Not too much difference\n",
    "NUM_FROZEN_LAYERS_EXTRACTION_MODE = [7, 0]\n",
    "#OPTIMIZER_NAMES = [\"adam\", \"sgd\"]\n",
    "OPTIMIZER_NAMES = [\"sgd\"] # Adam does not optimize very well (with current hyper-parameters)\n",
    "USE_RESAMPLING = False # Future research?"
   ]
  },
  {
   "cell_type": "markdown",
   "metadata": {},
   "source": [
    "#### Main Experimental Loop"
   ]
  },
  {
   "cell_type": "code",
   "execution_count": null,
   "metadata": {
    "colab": {
     "base_uri": "https://localhost:8080/",
     "height": 748
    },
    "executionInfo": {
     "elapsed": 109439,
     "status": "error",
     "timestamp": 1659353261051,
     "user": {
      "displayName": "Borja Espejo",
      "userId": "14834259721458229847"
     },
     "user_tz": -120
    },
    "id": "lYMZfqIFesKP",
    "outputId": "236f3e74-dff6-4413-c06a-a1463b007c37",
    "scrolled": false
   },
   "outputs": [
    {
     "name": "stderr",
     "output_type": "stream",
     "text": [
      "Some weights of the model checkpoint at recobo/agriculture-bert-uncased were not used when initializing BertForTokenClassification: ['cls.predictions.transform.LayerNorm.bias', 'cls.predictions.decoder.weight', 'cls.predictions.bias', 'cls.predictions.transform.LayerNorm.weight', 'cls.predictions.transform.dense.weight', 'cls.predictions.decoder.bias', 'cls.predictions.transform.dense.bias']\n",
      "- This IS expected if you are initializing BertForTokenClassification from the checkpoint of a model trained on another task or with another architecture (e.g. initializing a BertForSequenceClassification model from a BertForPreTraining model).\n",
      "- This IS NOT expected if you are initializing BertForTokenClassification from the checkpoint of a model that you expect to be exactly identical (initializing a BertForSequenceClassification model from a BertForSequenceClassification model).\n",
      "Some weights of BertForTokenClassification were not initialized from the model checkpoint at recobo/agriculture-bert-uncased and are newly initialized: ['classifier.weight', 'classifier.bias']\n",
      "You should probably TRAIN this model on a down-stream task to be able to use it for predictions and inference.\n",
      "  0%|                                                                                                                                                                             | 0/1528 [00:00<?, ?it/s]"
     ]
    },
    {
     "name": "stdout",
     "output_type": "stream",
     "text": [
      "huggingface/tokenizers: The current process just got forked, after parallelism has already been used. Disabling parallelism to avoid deadlocks...\n",
      "To disable this warning, you can either:\n",
      "\t- Avoid using `tokenizers` before the fork if possible\n",
      "\t- Explicitly set the environment variable TOKENIZERS_PARALLELISM=(true | false)\n"
     ]
    },
    {
     "name": "stderr",
     "output_type": "stream",
     "text": [
      "100%|██████████████████████████████████████████████████████████████████████████████████████████████████████████████████████████████████████████████████████████████████| 1528/1528 [00:38<00:00, 39.55it/s]/home/borjaeg/anaconda3/envs/paper_ner_pytorch_transformers/lib/python3.9/multiprocessing/popen_fork.py:66: ResourceWarning: unclosed socket <zmq.Socket(zmq.PUSH) at 0x7f27ea7dd220>\n",
      "  self.pid = os.fork()\n",
      "ResourceWarning: Enable tracemalloc to get the object allocation traceback\n",
      "/home/borjaeg/anaconda3/envs/paper_ner_pytorch_transformers/lib/python3.9/multiprocessing/popen_fork.py:66: ResourceWarning: unclosed socket <zmq.Socket(zmq.PUSH) at 0x7f27ae3eb640>\n",
      "  self.pid = os.fork()\n",
      "ResourceWarning: Enable tracemalloc to get the object allocation traceback\n",
      "100%|██████████████████████████████████████████████████████████████████████████████████████████████████████████████████████████████████████████████████████████████████| 1528/1528 [00:38<00:00, 39.24it/s]\n"
     ]
    },
    {
     "name": "stdout",
     "output_type": "stream",
     "text": [
      "huggingface/tokenizers: The current process just got forked, after parallelism has already been used. Disabling parallelism to avoid deadlocks...\n",
      "To disable this warning, you can either:\n",
      "\t- Avoid using `tokenizers` before the fork if possible\n",
      "\t- Explicitly set the environment variable TOKENIZERS_PARALLELISM=(true | false)\n"
     ]
    },
    {
     "name": "stderr",
     "output_type": "stream",
     "text": [
      "/home/borjaeg/anaconda3/envs/paper_ner_pytorch_transformers/lib/python3.9/multiprocessing/popen_fork.py:66: ResourceWarning: unclosed socket <zmq.Socket(zmq.PUSH) at 0x7f27ea7dd220>\n",
      "  self.pid = os.fork()\n",
      "ResourceWarning: Enable tracemalloc to get the object allocation traceback\n",
      "/home/borjaeg/anaconda3/envs/paper_ner_pytorch_transformers/lib/python3.9/multiprocessing/popen_fork.py:66: ResourceWarning: unclosed socket <zmq.Socket(zmq.PUSH) at 0x7f27ae1eabe0>\n",
      "  self.pid = os.fork()\n",
      "ResourceWarning: Enable tracemalloc to get the object allocation traceback\n",
      "/home/borjaeg/anaconda3/envs/paper_ner_pytorch_transformers/lib/python3.9/multiprocessing/popen_fork.py:66: ResourceWarning: unclosed socket <zmq.Socket(zmq.PUSH) at 0x7f27ae3eb640>\n",
      "  self.pid = os.fork()\n",
      "ResourceWarning: Enable tracemalloc to get the object allocation traceback\n"
     ]
    },
    {
     "name": "stdout",
     "output_type": "stream",
     "text": [
      "[INFO] Updating weights: 0.8569644689559937 > 0\n",
      "Epochs: 1 | Loss:  0.423 | Accuracy:  0.831 | Val_Loss:  0.354 | Accuracy:  0.857\n",
      "huggingface/tokenizers: The current process just got forked, after parallelism has already been used. Disabling parallelism to avoid deadlocks...\n",
      "To disable this warning, you can either:\n",
      "\t- Avoid using `tokenizers` before the fork if possible\n",
      "\t- Explicitly set the environment variable TOKENIZERS_PARALLELISM=(true | false)\n"
     ]
    },
    {
     "name": "stderr",
     "output_type": "stream",
     "text": [
      "/home/borjaeg/anaconda3/envs/paper_ner_pytorch_transformers/lib/python3.9/multiprocessing/popen_fork.py:66: ResourceWarning: unclosed socket <zmq.Socket(zmq.PUSH) at 0x7f27ea7dd220>\n",
      "  self.pid = os.fork()\n",
      "ResourceWarning: Enable tracemalloc to get the object allocation traceback\n",
      "/home/borjaeg/anaconda3/envs/paper_ner_pytorch_transformers/lib/python3.9/multiprocessing/popen_fork.py:66: ResourceWarning: unclosed socket <zmq.Socket(zmq.PUSH) at 0x7f27ae1eabe0>\n",
      "  self.pid = os.fork()\n",
      "ResourceWarning: Enable tracemalloc to get the object allocation traceback\n",
      "/home/borjaeg/anaconda3/envs/paper_ner_pytorch_transformers/lib/python3.9/multiprocessing/popen_fork.py:66: ResourceWarning: unclosed socket <zmq.Socket(zmq.PUSH) at 0x7f27ae3eb640>\n",
      "  self.pid = os.fork()\n",
      "ResourceWarning: Enable tracemalloc to get the object allocation traceback\n"
     ]
    },
    {
     "name": "stdout",
     "output_type": "stream",
     "text": [
      "Test Accuracy:  0.847\n"
     ]
    },
    {
     "name": "stderr",
     "output_type": "stream",
     "text": [
      "Some weights of the model checkpoint at recobo/agriculture-bert-uncased were not used when initializing BertForTokenClassification: ['cls.predictions.transform.LayerNorm.bias', 'cls.predictions.decoder.weight', 'cls.predictions.bias', 'cls.predictions.transform.LayerNorm.weight', 'cls.predictions.transform.dense.weight', 'cls.predictions.decoder.bias', 'cls.predictions.transform.dense.bias']\n",
      "- This IS expected if you are initializing BertForTokenClassification from the checkpoint of a model trained on another task or with another architecture (e.g. initializing a BertForSequenceClassification model from a BertForPreTraining model).\n",
      "- This IS NOT expected if you are initializing BertForTokenClassification from the checkpoint of a model that you expect to be exactly identical (initializing a BertForSequenceClassification model from a BertForSequenceClassification model).\n",
      "Some weights of BertForTokenClassification were not initialized from the model checkpoint at recobo/agriculture-bert-uncased and are newly initialized: ['classifier.weight', 'classifier.bias']\n",
      "You should probably TRAIN this model on a down-stream task to be able to use it for predictions and inference.\n",
      "  0%|▌                                                                                                                                                                    | 5/1528 [00:00<01:03, 24.01it/s]"
     ]
    },
    {
     "name": "stdout",
     "output_type": "stream",
     "text": [
      "huggingface/tokenizers: The current process just got forked, after parallelism has already been used. Disabling parallelism to avoid deadlocks...\n",
      "To disable this warning, you can either:\n",
      "\t- Avoid using `tokenizers` before the fork if possible\n",
      "\t- Explicitly set the environment variable TOKENIZERS_PARALLELISM=(true | false)\n"
     ]
    },
    {
     "name": "stderr",
     "output_type": "stream",
     "text": [
      " 28%|█████████████████████████████████████████████▉                                                                                                                     | 431/1528 [00:13<00:34, 31.64it/s]"
     ]
    }
   ],
   "source": [
    "with open(\"result_file.csv\", \"w\") as result_file:\n",
    "    writer = csv.writer(result_file)\n",
    "    for num_experiment in range(0, NUM_EXPERIMENTS):\n",
    "        random_state = RANDOM_STATE // (num_experiment + 1)\n",
    "        # Data Splitting -> Train, val, test\n",
    "        df_train, df_val, df_test = np.split(df.sample(frac=1., random_state=random_state),\n",
    "                                                         [int(.8*len(df)), int(.9*len(df))])\n",
    "        if USE_RESAMPLING: # Not used for this paper\n",
    "            print(\"[INFO] Loading Exluded Terms\")\n",
    "            OVERSAMPLING_EXCLUDED_TERMS = list(set(load_agrovoc_altLabels())) + list(set(load_agrovoc_prefLabels()))\n",
    "            print(\"[INFO] Stemming Exluded Terms\")\n",
    "            oversampling_excluded_terms = [get_lemma(exluded_term) for exluded_term in OVERSAMPLING_EXCLUDED_TERMS]\n",
    "            df_train = get_oversampled_data_with_synonyms(df_train, oversampling_excluded_terms, \n",
    "                                                                     use_undersampling = False,\n",
    "                                                                     verbose=False)\n",
    "        annotation_ratio = get_annotation_ratio(df_train)\n",
    "        #### Grid Search\n",
    "        for pretrained_model in PRETRAINED_MODELS:\n",
    "            best_test_accuracy = 0.0\n",
    "            for optimizer_name in OPTIMIZER_NAMES:\n",
    "                for num_frozen_layers in NUM_FROZEN_LAYERS_EXTRACTION_MODE:\n",
    "                    for frozen_embeddings_mode in FROZEN_EMBEDDINGS_MODE:\n",
    "                        try:\n",
    "                            for learning_rate in LEARNING_RATES:\n",
    "                                for dropout_rate in DROPOUT_RATES:\n",
    "                                    pipeline_id = \"_\".join(\n",
    "                                        [   str(pretrained_model).replace(\"/\", \"-\"),\n",
    "                                            str(optimizer_name),\n",
    "                                            str(learning_rate),\n",
    "                                            str(dropout_rate),\n",
    "                                            str(num_frozen_layers),\n",
    "                                            str(frozen_embeddings_mode),\n",
    "                                            str(USE_RESAMPLING),\n",
    "                                            str(round(annotation_ratio, 3))\n",
    "                                        ]\n",
    "                                    )\n",
    "                                    \n",
    "                                    #### CREATING MODELS ####\n",
    "                                    if pretrained_model == \"roberta-base\":\n",
    "                                        tokenizer = (\n",
    "                                            RobertaTokenizerFast.from_pretrained(\n",
    "                                                pretrained_model\n",
    "                                            )\n",
    "                                        )\n",
    "                                        model = RobertaModel(pretrained_model, unique_labels)\n",
    "                                        model.roberta.dropout = nn.Dropout(\n",
    "                                            p=dropout_rate, inplace=False\n",
    "                                        )\n",
    "                                    elif pretrained_model == \"xlnet-base-cased\":\n",
    "                                        tokenizer = (\n",
    "                                            XLNetTokenizerFast.from_pretrained(\n",
    "                                                pretrained_model\n",
    "                                            )\n",
    "                                        )\n",
    "                                        model = XLNetModel(pretrained_model, unique_labels)\n",
    "                                        model.xlnet.dropout = nn.Dropout(\n",
    "                                            p=dropout_rate, inplace=False\n",
    "                                        )\n",
    "                                    else:\n",
    "                                        tokenizer = BertTokenizerFast.from_pretrained(\n",
    "                                            pretrained_model\n",
    "                                        )\n",
    "                                        model = BertModel(pretrained_model, unique_labels)\n",
    "                                        model.bert.dropout = nn.Dropout(\n",
    "                                            p=dropout_rate, inplace=False\n",
    "                                        )\n",
    "                                    \n",
    "                                    #### FREEZING LAYERS? ####\n",
    "\n",
    "                                    if num_frozen_layers > 0:\n",
    "                                        freeeze_layers(\n",
    "                                            model, num_frozen_layers, pretrained_model\n",
    "                                        )\n",
    "                                    if frozen_embeddings_mode:\n",
    "                                        freeeze_embeddings(model, pretrained_model)\n",
    "                                    init_time = time.time()\n",
    "                                    #### TRAIN LOOP ####\n",
    "                                    (\n",
    "                                        train_loss,\n",
    "                                        train_accuracy,\n",
    "                                        val_loss,\n",
    "                                        val_accuracy,\n",
    "                                        best_epoch,\n",
    "                                    ) = train_loop(\n",
    "                                        model,\n",
    "                                        df_train,\n",
    "                                        df_val,\n",
    "                                        tokenizer,\n",
    "                                        labels_to_ids,\n",
    "                                        optimizer_name,\n",
    "                                        learning_rate,\n",
    "                                    )\n",
    "                                    end_time = time.time()\n",
    "                                    #### COMPUTING PERFORMANCES PER LABEL ####\n",
    "                                    (\n",
    "                                        test_accuracy,\n",
    "                                        test_f1,\n",
    "                                        f1_per_class,\n",
    "                                        test_precision,\n",
    "                                        precision_per_class,\n",
    "                                        test_recall,\n",
    "                                        recall_per_class,\n",
    "                                    ) = evaluate(model, df_test, tokenizer, unique_labels)\n",
    "                                    if test_accuracy > best_test_accuracy:\n",
    "                                        best_test_accuracy = test_accuracy\n",
    "                                        model_name = \"*\".join(\n",
    "                                            [str(num_experiment), pipeline_id]\n",
    "                                        )\n",
    "                                        \n",
    "                                        torch.save(\n",
    "                                            model,\n",
    "                                            os.path.join(\n",
    "                                                BEST_MODELS_PATH, model_name + \".pt\"\n",
    "                                            ),\n",
    "                                        )\n",
    "                                    \n",
    "                                    #### COMPUTING PERFORMANCES PER ENTITY ####\n",
    "                                    ## Test Performance ##\n",
    "                                    test_total_entities_ratio, test_partial_entities_ratio, test_false_positive_ratio = get_entity_annotation_report(df_test, model, tokenizer, ids_to_labels)\n",
    "                                    ## Syns Performance ##\n",
    "                                    syns_total_entities_ratio, syns_partial_entities_ratio, syns_false_positive_ratio = get_entity_annotation_report(df_syns, model, tokenizer, ids_to_labels)\n",
    "                                    ## Novel Performance ##\n",
    "                                    novel_total_entities_ratio, novel_partial_entities_ratio, novel_false_positive_ratio = get_entity_annotation_report(df_novel, model, tokenizer, ids_to_labels)\n",
    "                                    \n",
    "                                    #### REPORTING PERFORMANCES ####\n",
    "                                    writer.writerow(\n",
    "                                        [\n",
    "                                            num_experiment,\n",
    "                                            pipeline_id,\n",
    "                                            best_epoch,\n",
    "                                            round(train_loss, 4),\n",
    "                                            round(train_accuracy.item(), 4),\n",
    "                                            round(val_loss, 4),\n",
    "                                            round(val_accuracy.item(), 4),\n",
    "                                            round(test_accuracy.item(), 4),\n",
    "                                            round(test_f1.item(), 4),\n",
    "                                            f1_per_class,\n",
    "                                            round(test_precision.item(), 4),\n",
    "                                            precision_per_class,\n",
    "                                            round(test_recall.item(), 4),\n",
    "                                            recall_per_class,\n",
    "                                            test_total_entities_ratio, \n",
    "                                            test_partial_entities_ratio, \n",
    "                                            test_false_positive_ratio,\n",
    "                                            syns_total_entities_ratio, \n",
    "                                            syns_partial_entities_ratio, \n",
    "                                            syns_false_positive_ratio,\n",
    "                                            novel_total_entities_ratio, \n",
    "                                            novel_partial_entities_ratio, \n",
    "                                            novel_false_positive_ratio,      \n",
    "                                            (end_time - init_time)/(best_epoch+PATIENCE)\n",
    "                                        ]\n",
    "                                    )\n",
    "                                    result_file.flush()\n",
    "                                    del model\n",
    "                                    gc.collect()\n",
    "                        except Exception as e:\n",
    "                            print(\"Exception\")\n",
    "                            print(e)"
   ]
  },
  {
   "cell_type": "code",
   "execution_count": null,
   "metadata": {
    "id": "es2Q4E8l79YU"
   },
   "outputs": [],
   "source": []
  },
  {
   "cell_type": "code",
   "execution_count": null,
   "metadata": {},
   "outputs": [],
   "source": []
  }
 ],
 "metadata": {
  "accelerator": "GPU",
  "colab": {
   "collapsed_sections": [],
   "name": "Agri-NER-Experiments.ipynb",
   "provenance": []
  },
  "gpuClass": "standard",
  "kernelspec": {
   "display_name": "Python 3 (ipykernel)",
   "language": "python",
   "name": "python3"
  },
  "language_info": {
   "codemirror_mode": {
    "name": "ipython",
    "version": 3
   },
   "file_extension": ".py",
   "mimetype": "text/x-python",
   "name": "python",
   "nbconvert_exporter": "python",
   "pygments_lexer": "ipython3",
   "version": "3.9.16"
  }
 },
 "nbformat": 4,
 "nbformat_minor": 1
}
